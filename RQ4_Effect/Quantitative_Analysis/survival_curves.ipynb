{
 "cells": [
  {
   "cell_type": "code",
   "execution_count": 1,
   "id": "5d4dd3b4-2faf-4b16-bb2e-1d876173be21",
   "metadata": {},
   "outputs": [],
   "source": [
    "import pandas as pd\n",
    "import matplotlib.pyplot as plt\n",
    "from scipy.stats import binomtest\n",
    "from lifelines import KaplanMeierFitter\n",
    "from lifelines.statistics import logrank_test"
   ]
  },
  {
   "cell_type": "code",
   "execution_count": 2,
   "id": "c4738d0d-2383-4e44-8ff6-fc5c1a43b4cd",
   "metadata": {},
   "outputs": [
    {
     "data": {
      "text/html": [
       "<div>\n",
       "<style scoped>\n",
       "    .dataframe tbody tr th:only-of-type {\n",
       "        vertical-align: middle;\n",
       "    }\n",
       "\n",
       "    .dataframe tbody tr th {\n",
       "        vertical-align: top;\n",
       "    }\n",
       "\n",
       "    .dataframe thead th {\n",
       "        text-align: right;\n",
       "    }\n",
       "</style>\n",
       "<table border=\"1\" class=\"dataframe\">\n",
       "  <thead>\n",
       "    <tr style=\"text-align: right;\">\n",
       "      <th></th>\n",
       "      <th>modelId</th>\n",
       "      <th>created_at</th>\n",
       "      <th>lastModified</th>\n",
       "      <th>modelcard_created_at</th>\n",
       "      <th>last_modelcard_update</th>\n",
       "      <th>Quality</th>\n",
       "    </tr>\n",
       "  </thead>\n",
       "  <tbody>\n",
       "    <tr>\n",
       "      <th>0</th>\n",
       "      <td>DrishtiSharma/wav2vec2-large-xls-r-300m-ab-v4</td>\n",
       "      <td>2022-01-26</td>\n",
       "      <td>1643155200000</td>\n",
       "      <td>2022-01-26</td>\n",
       "      <td>2022-01-26</td>\n",
       "      <td>Low</td>\n",
       "    </tr>\n",
       "    <tr>\n",
       "      <th>1</th>\n",
       "      <td>Helsinki-NLP/opus-mt-es-nl</td>\n",
       "      <td>2020-04-29</td>\n",
       "      <td>1692144000000</td>\n",
       "      <td>2020-05-13</td>\n",
       "      <td>2021-09-09</td>\n",
       "      <td>Low</td>\n",
       "    </tr>\n",
       "    <tr>\n",
       "      <th>2</th>\n",
       "      <td>Helsinki-NLP/opus-mt-sv-tiv</td>\n",
       "      <td>2020-05-06</td>\n",
       "      <td>1692144000000</td>\n",
       "      <td>2020-05-13</td>\n",
       "      <td>2021-09-10</td>\n",
       "      <td>Low</td>\n",
       "    </tr>\n",
       "    <tr>\n",
       "      <th>3</th>\n",
       "      <td>MultiBertGunjanPatrick/multiberts-seed-15</td>\n",
       "      <td>2021-09-23</td>\n",
       "      <td>1633305600000</td>\n",
       "      <td>2021-09-23</td>\n",
       "      <td>2021-10-04</td>\n",
       "      <td>High</td>\n",
       "    </tr>\n",
       "    <tr>\n",
       "      <th>4</th>\n",
       "      <td>SauravMaheshkar/clr-finetuned-bert-large-uncased</td>\n",
       "      <td>2021-07-10</td>\n",
       "      <td>1632355200000</td>\n",
       "      <td>2021-07-10</td>\n",
       "      <td>2021-09-23</td>\n",
       "      <td>Low</td>\n",
       "    </tr>\n",
       "    <tr>\n",
       "      <th>...</th>\n",
       "      <td>...</td>\n",
       "      <td>...</td>\n",
       "      <td>...</td>\n",
       "      <td>...</td>\n",
       "      <td>...</td>\n",
       "      <td>...</td>\n",
       "    </tr>\n",
       "    <tr>\n",
       "      <th>753</th>\n",
       "      <td>Maelstrome/mermaid-gemmma-7b</td>\n",
       "      <td>2024-04-21</td>\n",
       "      <td>1713657600000</td>\n",
       "      <td>2024-04-21</td>\n",
       "      <td>2024-04-21</td>\n",
       "      <td>High</td>\n",
       "    </tr>\n",
       "    <tr>\n",
       "      <th>754</th>\n",
       "      <td>Niggendar/waiANINSFWPONYXL_v20</td>\n",
       "      <td>2024-04-22</td>\n",
       "      <td>1713744000000</td>\n",
       "      <td>2024-04-22</td>\n",
       "      <td>2024-04-22</td>\n",
       "      <td>Low</td>\n",
       "    </tr>\n",
       "    <tr>\n",
       "      <th>755</th>\n",
       "      <td>jayasuryajsk/Llama-3-8b-Telugu-Romanized</td>\n",
       "      <td>2024-04-23</td>\n",
       "      <td>1713830400000</td>\n",
       "      <td>2024-04-23</td>\n",
       "      <td>2024-04-23</td>\n",
       "      <td>Low</td>\n",
       "    </tr>\n",
       "    <tr>\n",
       "      <th>756</th>\n",
       "      <td>gradientai/Llama-3-8B-Instruct-262k</td>\n",
       "      <td>2024-04-25</td>\n",
       "      <td>1714089600000</td>\n",
       "      <td>2024-04-25</td>\n",
       "      <td>2024-04-26</td>\n",
       "      <td>High</td>\n",
       "    </tr>\n",
       "    <tr>\n",
       "      <th>757</th>\n",
       "      <td>blockblockblock/miqu-evil-dpo-bpw3.7-exl2</td>\n",
       "      <td>2024-04-26</td>\n",
       "      <td>1714089600000</td>\n",
       "      <td>2024-04-26</td>\n",
       "      <td>2024-04-26</td>\n",
       "      <td>High</td>\n",
       "    </tr>\n",
       "  </tbody>\n",
       "</table>\n",
       "<p>758 rows × 6 columns</p>\n",
       "</div>"
      ],
      "text/plain": [
       "                                              modelId created_at  \\\n",
       "0       DrishtiSharma/wav2vec2-large-xls-r-300m-ab-v4 2022-01-26   \n",
       "1                          Helsinki-NLP/opus-mt-es-nl 2020-04-29   \n",
       "2                         Helsinki-NLP/opus-mt-sv-tiv 2020-05-06   \n",
       "3           MultiBertGunjanPatrick/multiberts-seed-15 2021-09-23   \n",
       "4    SauravMaheshkar/clr-finetuned-bert-large-uncased 2021-07-10   \n",
       "..                                                ...        ...   \n",
       "753                      Maelstrome/mermaid-gemmma-7b 2024-04-21   \n",
       "754                    Niggendar/waiANINSFWPONYXL_v20 2024-04-22   \n",
       "755          jayasuryajsk/Llama-3-8b-Telugu-Romanized 2024-04-23   \n",
       "756               gradientai/Llama-3-8B-Instruct-262k 2024-04-25   \n",
       "757         blockblockblock/miqu-evil-dpo-bpw3.7-exl2 2024-04-26   \n",
       "\n",
       "      lastModified modelcard_created_at last_modelcard_update Quality  \n",
       "0    1643155200000           2022-01-26            2022-01-26     Low  \n",
       "1    1692144000000           2020-05-13            2021-09-09     Low  \n",
       "2    1692144000000           2020-05-13            2021-09-10     Low  \n",
       "3    1633305600000           2021-09-23            2021-10-04    High  \n",
       "4    1632355200000           2021-07-10            2021-09-23     Low  \n",
       "..             ...                  ...                   ...     ...  \n",
       "753  1713657600000           2024-04-21            2024-04-21    High  \n",
       "754  1713744000000           2024-04-22            2024-04-22     Low  \n",
       "755  1713830400000           2024-04-23            2024-04-23     Low  \n",
       "756  1714089600000           2024-04-25            2024-04-26    High  \n",
       "757  1714089600000           2024-04-26            2024-04-26    High  \n",
       "\n",
       "[758 rows x 6 columns]"
      ]
     },
     "execution_count": 2,
     "metadata": {},
     "output_type": "execute_result"
    }
   ],
   "source": [
    "file_path = \"D:/Research/RQ4/Survival Analysis/data.json\"\n",
    "df = pd.read_json(file_path, lines=True)\n",
    "df"
   ]
  },
  {
   "cell_type": "code",
   "execution_count": 3,
   "id": "c4bdb654-60a6-49f6-9e4f-9145ea94eeaa",
   "metadata": {},
   "outputs": [
    {
     "data": {
      "text/html": [
       "<div>\n",
       "<style scoped>\n",
       "    .dataframe tbody tr th:only-of-type {\n",
       "        vertical-align: middle;\n",
       "    }\n",
       "\n",
       "    .dataframe tbody tr th {\n",
       "        vertical-align: top;\n",
       "    }\n",
       "\n",
       "    .dataframe thead th {\n",
       "        text-align: right;\n",
       "    }\n",
       "</style>\n",
       "<table border=\"1\" class=\"dataframe\">\n",
       "  <thead>\n",
       "    <tr style=\"text-align: right;\">\n",
       "      <th></th>\n",
       "      <th>modelId</th>\n",
       "      <th>created_at</th>\n",
       "      <th>lastModified</th>\n",
       "      <th>modelcard_created_at</th>\n",
       "      <th>last_modelcard_update</th>\n",
       "      <th>Quality</th>\n",
       "    </tr>\n",
       "  </thead>\n",
       "  <tbody>\n",
       "    <tr>\n",
       "      <th>0</th>\n",
       "      <td>DrishtiSharma/wav2vec2-large-xls-r-300m-ab-v4</td>\n",
       "      <td>2022-01-26</td>\n",
       "      <td>2022-01-26</td>\n",
       "      <td>2022-01-26</td>\n",
       "      <td>2022-01-26</td>\n",
       "      <td>Low</td>\n",
       "    </tr>\n",
       "    <tr>\n",
       "      <th>1</th>\n",
       "      <td>Helsinki-NLP/opus-mt-es-nl</td>\n",
       "      <td>2020-04-29</td>\n",
       "      <td>2023-08-16</td>\n",
       "      <td>2020-05-13</td>\n",
       "      <td>2021-09-09</td>\n",
       "      <td>Low</td>\n",
       "    </tr>\n",
       "    <tr>\n",
       "      <th>2</th>\n",
       "      <td>Helsinki-NLP/opus-mt-sv-tiv</td>\n",
       "      <td>2020-05-06</td>\n",
       "      <td>2023-08-16</td>\n",
       "      <td>2020-05-13</td>\n",
       "      <td>2021-09-10</td>\n",
       "      <td>Low</td>\n",
       "    </tr>\n",
       "    <tr>\n",
       "      <th>3</th>\n",
       "      <td>MultiBertGunjanPatrick/multiberts-seed-15</td>\n",
       "      <td>2021-09-23</td>\n",
       "      <td>2021-10-04</td>\n",
       "      <td>2021-09-23</td>\n",
       "      <td>2021-10-04</td>\n",
       "      <td>High</td>\n",
       "    </tr>\n",
       "    <tr>\n",
       "      <th>4</th>\n",
       "      <td>SauravMaheshkar/clr-finetuned-bert-large-uncased</td>\n",
       "      <td>2021-07-10</td>\n",
       "      <td>2021-09-23</td>\n",
       "      <td>2021-07-10</td>\n",
       "      <td>2021-09-23</td>\n",
       "      <td>Low</td>\n",
       "    </tr>\n",
       "    <tr>\n",
       "      <th>...</th>\n",
       "      <td>...</td>\n",
       "      <td>...</td>\n",
       "      <td>...</td>\n",
       "      <td>...</td>\n",
       "      <td>...</td>\n",
       "      <td>...</td>\n",
       "    </tr>\n",
       "    <tr>\n",
       "      <th>753</th>\n",
       "      <td>Maelstrome/mermaid-gemmma-7b</td>\n",
       "      <td>2024-04-21</td>\n",
       "      <td>2024-04-21</td>\n",
       "      <td>2024-04-21</td>\n",
       "      <td>2024-04-21</td>\n",
       "      <td>High</td>\n",
       "    </tr>\n",
       "    <tr>\n",
       "      <th>754</th>\n",
       "      <td>Niggendar/waiANINSFWPONYXL_v20</td>\n",
       "      <td>2024-04-22</td>\n",
       "      <td>2024-04-22</td>\n",
       "      <td>2024-04-22</td>\n",
       "      <td>2024-04-22</td>\n",
       "      <td>Low</td>\n",
       "    </tr>\n",
       "    <tr>\n",
       "      <th>755</th>\n",
       "      <td>jayasuryajsk/Llama-3-8b-Telugu-Romanized</td>\n",
       "      <td>2024-04-23</td>\n",
       "      <td>2024-04-23</td>\n",
       "      <td>2024-04-23</td>\n",
       "      <td>2024-04-23</td>\n",
       "      <td>Low</td>\n",
       "    </tr>\n",
       "    <tr>\n",
       "      <th>756</th>\n",
       "      <td>gradientai/Llama-3-8B-Instruct-262k</td>\n",
       "      <td>2024-04-25</td>\n",
       "      <td>2024-04-26</td>\n",
       "      <td>2024-04-25</td>\n",
       "      <td>2024-04-26</td>\n",
       "      <td>High</td>\n",
       "    </tr>\n",
       "    <tr>\n",
       "      <th>757</th>\n",
       "      <td>blockblockblock/miqu-evil-dpo-bpw3.7-exl2</td>\n",
       "      <td>2024-04-26</td>\n",
       "      <td>2024-04-26</td>\n",
       "      <td>2024-04-26</td>\n",
       "      <td>2024-04-26</td>\n",
       "      <td>High</td>\n",
       "    </tr>\n",
       "  </tbody>\n",
       "</table>\n",
       "<p>758 rows × 6 columns</p>\n",
       "</div>"
      ],
      "text/plain": [
       "                                              modelId created_at lastModified  \\\n",
       "0       DrishtiSharma/wav2vec2-large-xls-r-300m-ab-v4 2022-01-26   2022-01-26   \n",
       "1                          Helsinki-NLP/opus-mt-es-nl 2020-04-29   2023-08-16   \n",
       "2                         Helsinki-NLP/opus-mt-sv-tiv 2020-05-06   2023-08-16   \n",
       "3           MultiBertGunjanPatrick/multiberts-seed-15 2021-09-23   2021-10-04   \n",
       "4    SauravMaheshkar/clr-finetuned-bert-large-uncased 2021-07-10   2021-09-23   \n",
       "..                                                ...        ...          ...   \n",
       "753                      Maelstrome/mermaid-gemmma-7b 2024-04-21   2024-04-21   \n",
       "754                    Niggendar/waiANINSFWPONYXL_v20 2024-04-22   2024-04-22   \n",
       "755          jayasuryajsk/Llama-3-8b-Telugu-Romanized 2024-04-23   2024-04-23   \n",
       "756               gradientai/Llama-3-8B-Instruct-262k 2024-04-25   2024-04-26   \n",
       "757         blockblockblock/miqu-evil-dpo-bpw3.7-exl2 2024-04-26   2024-04-26   \n",
       "\n",
       "    modelcard_created_at last_modelcard_update Quality  \n",
       "0             2022-01-26            2022-01-26     Low  \n",
       "1             2020-05-13            2021-09-09     Low  \n",
       "2             2020-05-13            2021-09-10     Low  \n",
       "3             2021-09-23            2021-10-04    High  \n",
       "4             2021-07-10            2021-09-23     Low  \n",
       "..                   ...                   ...     ...  \n",
       "753           2024-04-21            2024-04-21    High  \n",
       "754           2024-04-22            2024-04-22     Low  \n",
       "755           2024-04-23            2024-04-23     Low  \n",
       "756           2024-04-25            2024-04-26    High  \n",
       "757           2024-04-26            2024-04-26    High  \n",
       "\n",
       "[758 rows x 6 columns]"
      ]
     },
     "execution_count": 3,
     "metadata": {},
     "output_type": "execute_result"
    }
   ],
   "source": [
    "df['lastModified'] = pd.to_datetime(df['lastModified'], unit='ms')\n",
    "df"
   ]
  },
  {
   "cell_type": "code",
   "execution_count": 4,
   "id": "133c5754-b571-41f0-b23b-a734d325401c",
   "metadata": {},
   "outputs": [
    {
     "data": {
      "image/png": "[encoded data removed]",
      "text/plain": [
       "<Figure size 1000x600 with 1 Axes>"
      ]
     },
     "metadata": {},
     "output_type": "display_data"
    },
    {
     "name": "stdout",
     "output_type": "stream",
     "text": [
      "<lifelines.StatisticalResult: logrank_test>\n",
      "               t_0 = -1\n",
      " null_distribution = chi squared\n",
      "degrees_of_freedom = 1\n",
      "         test_name = logrank_test\n",
      "\n",
      "---\n",
      " test_statistic      p  -log2(p)\n",
      "          10.61 <0.005      9.80\n"
     ]
    },
    {
     "data": {
      "text/html": [
       "<div>\n",
       "<style scoped>\n",
       "    .dataframe tbody tr th:only-of-type {\n",
       "        vertical-align: middle;\n",
       "    }\n",
       "\n",
       "    .dataframe tbody tr th {\n",
       "        vertical-align: top;\n",
       "    }\n",
       "\n",
       "    .dataframe thead th {\n",
       "        text-align: right;\n",
       "    }\n",
       "</style>\n",
       "<table border=\"1\" class=\"dataframe\">\n",
       "  <tbody>\n",
       "    <tr>\n",
       "      <th>t_0</th>\n",
       "      <td>-1</td>\n",
       "    </tr>\n",
       "    <tr>\n",
       "      <th>null_distribution</th>\n",
       "      <td>chi squared</td>\n",
       "    </tr>\n",
       "    <tr>\n",
       "      <th>degrees_of_freedom</th>\n",
       "      <td>1</td>\n",
       "    </tr>\n",
       "    <tr>\n",
       "      <th>test_name</th>\n",
       "      <td>logrank_test</td>\n",
       "    </tr>\n",
       "  </tbody>\n",
       "</table>\n",
       "</div><table border=\"1\" class=\"dataframe\">\n",
       "  <thead>\n",
       "    <tr style=\"text-align: right;\">\n",
       "      <th></th>\n",
       "      <th>test_statistic</th>\n",
       "      <th>p</th>\n",
       "      <th>-log2(p)</th>\n",
       "    </tr>\n",
       "  </thead>\n",
       "  <tbody>\n",
       "    <tr>\n",
       "      <th>0</th>\n",
       "      <td>10.61</td>\n",
       "      <td>&lt;0.005</td>\n",
       "      <td>9.80</td>\n",
       "    </tr>\n",
       "  </tbody>\n",
       "</table>"
      ],
      "text/latex": [
       "\\begin{tabular}{lrrr}\n",
       " & test_statistic & p & -log2(p) \\\\\n",
       "0 & 10.61 & 0.00 & 9.80 \\\\\n",
       "\\end{tabular}\n"
      ],
      "text/plain": [
       "<lifelines.StatisticalResult: logrank_test>\n",
       "               t_0 = -1\n",
       " null_distribution = chi squared\n",
       "degrees_of_freedom = 1\n",
       "         test_name = logrank_test\n",
       "\n",
       "---\n",
       " test_statistic      p  -log2(p)\n",
       "          10.61 <0.005      9.80"
      ]
     },
     "metadata": {},
     "output_type": "display_data"
    }
   ],
   "source": [
    "# Convert date format\n",
    "df['created_at'] = pd.to_datetime(df['created_at'])\n",
    "df['lastModified'] = pd.to_datetime(df['lastModified'])\n",
    "\n",
    "# Calculate survival time (in days)\n",
    "df['model_duration'] = (df['lastModified'] - df['created_at']).dt.days\n",
    "\n",
    "# Group by Quality: High and Low\n",
    "high_quality = df[df['Quality'] == 'High']\n",
    "low_quality = df[df['Quality'] == 'Low']\n",
    "\n",
    "# Kaplan-Meier survival analysis\n",
    "kmf_high = KaplanMeierFitter()\n",
    "kmf_low = KaplanMeierFitter()\n",
    "\n",
    "kmf_high.fit(high_quality['model_duration'], label='High Quality')\n",
    "kmf_low.fit(low_quality['model_duration'], label='Low Quality')\n",
    "\n",
    "# Plot survival curves\n",
    "plt.figure(figsize=(10, 6))\n",
    "kmf_high.plot_survival_function()\n",
    "kmf_low.plot_survival_function()\n",
    "\n",
    "#plt.title('Kaplan-Meier Survival Curve by Quality')\n",
    "plt.xlabel('Days', fontsize=20)\n",
    "plt.ylabel('Survival Probability', fontsize=20)\n",
    "plt.legend(fontsize=20)\n",
    "\n",
    "# Set the font size of the tick labels\n",
    "plt.xticks(fontsize=20)\n",
    "plt.yticks(fontsize=20)\n",
    "\n",
    "plt.savefig('Kaplan-Meier(model).pdf', format='pdf', bbox_inches='tight')\n",
    "\n",
    "plt.show()\n",
    "\n",
    "# Perform log-rank test\n",
    "results = logrank_test(\n",
    "    high_quality['model_duration'], \n",
    "    low_quality['model_duration']\n",
    ")\n",
    "\n",
    "# Print test results\n",
    "print(results)\n",
    "results.print_summary()"
   ]
  },
  {
   "cell_type": "code",
   "execution_count": 5,
   "id": "f56cfce1-45a5-4ae5-8647-71ce8f720e2b",
   "metadata": {},
   "outputs": [
    {
     "data": {
      "text/plain": [
       "0.0011253247127922298"
      ]
     },
     "execution_count": 5,
     "metadata": {},
     "output_type": "execute_result"
    }
   ],
   "source": [
    "results.p_value"
   ]
  },
  {
   "cell_type": "code",
   "execution_count": 6,
   "id": "6811187d-3190-4c85-b14e-6d8c86fe932e",
   "metadata": {},
   "outputs": [],
   "source": [
    "median_survival_high = kmf_high.median_survival_time_\n",
    "median_survival_low = kmf_low.median_survival_time_"
   ]
  },
  {
   "cell_type": "code",
   "execution_count": 7,
   "id": "cd49fffb-31d7-4354-8894-168489995398",
   "metadata": {},
   "outputs": [
    {
     "data": {
      "text/plain": [
       "1.0"
      ]
     },
     "execution_count": 7,
     "metadata": {},
     "output_type": "execute_result"
    }
   ],
   "source": [
    "median_survival_high"
   ]
  },
  {
   "cell_type": "code",
   "execution_count": 8,
   "id": "b667257a-6666-4b9c-8fe8-5474404ba95f",
   "metadata": {},
   "outputs": [
    {
     "data": {
      "text/plain": [
       "0.0"
      ]
     },
     "execution_count": 8,
     "metadata": {},
     "output_type": "execute_result"
    }
   ],
   "source": [
    "median_survival_low"
   ]
  },
  {
   "cell_type": "code",
   "execution_count": 9,
   "id": "e7fc4513-9171-4b84-ad13-d0b25317a363",
   "metadata": {},
   "outputs": [
    {
     "name": "stderr",
     "output_type": "stream",
     "text": [
      "D:\\python virtual environment\\my_env2\\lib\\site-packages\\lifelines\\fitters\\__init__.py:279: ApproximationWarning: Approximating using `survival_function_`. To increase accuracy, try using or increasing the resolution of the timeline kwarg in `.fit(..., timeline=timeline)`.\n",
      "\n",
      "  warnings.warn(\n",
      "D:\\python virtual environment\\my_env2\\lib\\site-packages\\lifelines\\fitters\\__init__.py:279: ApproximationWarning: Approximating using `survival_function_`. To increase accuracy, try using or increasing the resolution of the timeline kwarg in `.fit(..., timeline=timeline)`.\n",
      "\n",
      "  warnings.warn(\n"
     ]
    }
   ],
   "source": [
    "time_at_80_high = kmf_high.percentile(0.2)\n",
    "time_at_80_low = kmf_low.percentile(0.2)"
   ]
  },
  {
   "cell_type": "code",
   "execution_count": 10,
   "id": "1b8151c5-5d9c-488f-9040-7a9a35b0ebfd",
   "metadata": {},
   "outputs": [
    {
     "data": {
      "text/plain": [
       "45.0"
      ]
     },
     "execution_count": 10,
     "metadata": {},
     "output_type": "execute_result"
    }
   ],
   "source": [
    "time_at_80_high"
   ]
  },
  {
   "cell_type": "code",
   "execution_count": 11,
   "id": "258d5183-bc07-441b-9a7f-036db1883c3b",
   "metadata": {},
   "outputs": [
    {
     "data": {
      "text/plain": [
       "8.0"
      ]
     },
     "execution_count": 11,
     "metadata": {},
     "output_type": "execute_result"
    }
   ],
   "source": [
    "time_at_80_low"
   ]
  },
  {
   "cell_type": "code",
   "execution_count": 12,
   "id": "f68dfdba-4368-4527-85de-50fd0ee2eb20",
   "metadata": {},
   "outputs": [],
   "source": [
    "survival_at_time_zero_high = kmf_high.predict(0)\n",
    "survival_at_time_zero_low = kmf_low.predict(0)"
   ]
  },
  {
   "cell_type": "code",
   "execution_count": 13,
   "id": "616c95f3-1533-4488-bdc0-3abcce918c92",
   "metadata": {},
   "outputs": [
    {
     "data": {
      "text/plain": [
       "0.5155038759689923"
      ]
     },
     "execution_count": 13,
     "metadata": {},
     "output_type": "execute_result"
    }
   ],
   "source": [
    "survival_at_time_zero_high"
   ]
  },
  {
   "cell_type": "code",
   "execution_count": 14,
   "id": "8d5ddf9b-dd58-4254-b41e-1ee6f3ec562e",
   "metadata": {},
   "outputs": [
    {
     "data": {
      "text/plain": [
       "0.3980000000000001"
      ]
     },
     "execution_count": 14,
     "metadata": {},
     "output_type": "execute_result"
    }
   ],
   "source": [
    "survival_at_time_zero_low"
   ]
  }
 ],
 "metadata": {
  "kernelspec": {
   "display_name": "my_env2",
   "language": "python",
   "name": "my_env2"
  },
  "language_info": {
   "codemirror_mode": {
    "name": "ipython",
    "version": 3
   },
   "file_extension": ".py",
   "mimetype": "text/x-python",
   "name": "python",
   "nbconvert_exporter": "python",
   "pygments_lexer": "ipython3",
   "version": "3.10.11"
  }
 },
 "nbformat": 4,
 "nbformat_minor": 5
}
